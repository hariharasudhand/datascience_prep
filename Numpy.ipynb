{
 "cells": [
  {
   "cell_type": "code",
   "execution_count": 2,
   "id": "faf79352-3491-4592-a232-b54c13a29dcc",
   "metadata": {
    "tags": []
   },
   "outputs": [
    {
     "name": "stdout",
     "output_type": "stream",
     "text": [
      "Hi this is a \n"
     ]
    }
   ],
   "source": [
    "def a():\n",
    "    \n",
    "    print(\"Hi this is a \")\n",
    "\n",
    "a()"
   ]
  },
  {
   "cell_type": "code",
   "execution_count": 4,
   "id": "aab9f095-9414-4a98-8210-4acb887cf8ba",
   "metadata": {
    "tags": []
   },
   "outputs": [
    {
     "name": "stdout",
     "output_type": "stream",
     "text": [
      "Hi this is a method from class a\n"
     ]
    }
   ],
   "source": [
    "class a:\n",
    "    def a_method():\n",
    "        print(\"Hi this is a method from class a\")\n",
    "\n",
    "b = a()\n",
    "a.a_method()"
   ]
  },
  {
   "cell_type": "code",
   "execution_count": 7,
   "id": "7e8b602d-6c35-4165-8fd2-a7cab761d1a2",
   "metadata": {
    "tags": []
   },
   "outputs": [
    {
     "name": "stdout",
     "output_type": "stream",
     "text": [
      "Hi this is a test!!\n"
     ]
    }
   ],
   "source": [
    "def test():\n",
    "    print(\"Hi this is a test!!\")\n",
    "\n",
    "if __name__ == \"__main__\":\n",
    "    test()"
   ]
  },
  {
   "cell_type": "code",
   "execution_count": 2,
   "id": "f4e7e72a-2638-4dff-828c-6c9cc1c5a9d2",
   "metadata": {},
   "outputs": [
    {
     "name": "stdout",
     "output_type": "stream",
     "text": [
      "100.0\n"
     ]
    }
   ],
   "source": [
    "x = lambda a,b:a*b/2\n",
    "\n",
    "print(x(10,20))"
   ]
  },
  {
   "cell_type": "code",
   "execution_count": 9,
   "id": "e6e31f63-d307-4f96-b4cf-e44496229f69",
   "metadata": {
    "tags": []
   },
   "outputs": [
    {
     "name": "stdout",
     "output_type": "stream",
     "text": [
      "20\n"
     ]
    }
   ],
   "source": [
    "def myfunc(n):\n",
    "    return lambda a:a*n\n",
    "\n",
    "doubleme = myfunc(10)\n",
    "print(doubleme(2))"
   ]
  },
  {
   "cell_type": "code",
   "execution_count": 10,
   "id": "eb6f79c5-ab49-4f21-aa73-6cb8418a63e5",
   "metadata": {
    "tags": []
   },
   "outputs": [],
   "source": [
    "def mySecondFunction(a,b,c):\n",
    "    \n",
    "    return lambda x:(a+b+c)/x\n",
    "\n",
    "myThirdFunction = mySecondFunction(10,20,20)\n",
    "    "
   ]
  },
  {
   "cell_type": "code",
   "execution_count": 11,
   "id": "a54717c9-4386-48f6-b32e-a74dd5e18b7c",
   "metadata": {
    "tags": []
   },
   "outputs": [
    {
     "name": "stdout",
     "output_type": "stream",
     "text": [
      "25.0\n"
     ]
    }
   ],
   "source": [
    "print(myThirdFunction(2))"
   ]
  },
  {
   "cell_type": "code",
   "execution_count": 16,
   "id": "704614b7-8cad-4719-97b0-eaf588a387e4",
   "metadata": {
    "tags": []
   },
   "outputs": [
    {
     "name": "stdout",
     "output_type": "stream",
     "text": [
      "Hi from Hari\n",
      "\n",
      "Hi from Sai\n",
      "\n",
      "Hi from Shiv\n",
      "\n",
      "Hi from Krithi\n"
     ]
    }
   ],
   "source": [
    "f = open(\"demo.txt\",\"r\")\n",
    "print(f.readline())\n",
    "print(f.readline())\n",
    "print(f.readline())\n",
    "print(f.readline())"
   ]
  },
  {
   "cell_type": "code",
   "execution_count": 18,
   "id": "840e9a6a-b770-49f2-872d-7e0082703b1d",
   "metadata": {
    "tags": []
   },
   "outputs": [
    {
     "name": "stdout",
     "output_type": "stream",
     "text": [
      "Hi from Hari\n",
      "Hi from Sai\n",
      "Hi from Shiv\n",
      "Hi from Krithi\n"
     ]
    }
   ],
   "source": [
    "f = open(\"demo.txt\",\"r\")\n",
    "print(f.read())"
   ]
  },
  {
   "cell_type": "code",
   "execution_count": 19,
   "id": "4dd5ff0d-14a6-468c-b08e-26b67e5a1a86",
   "metadata": {
    "tags": []
   },
   "outputs": [
    {
     "name": "stdout",
     "output_type": "stream",
     "text": [
      "Hi from Ha\n"
     ]
    }
   ],
   "source": [
    "f = open(\"demo.txt\",\"r\")\n",
    "print(f.read(10))"
   ]
  },
  {
   "cell_type": "code",
   "execution_count": 20,
   "id": "8fcd878e-32dc-4350-9dfa-544b9ac95b17",
   "metadata": {
    "tags": []
   },
   "outputs": [
    {
     "name": "stdout",
     "output_type": "stream",
     "text": [
      "Hi from Hari\n",
      "\n",
      "Hi from Sai\n",
      "\n",
      "Hi from Shiv\n",
      "\n",
      "Hi from Krithi\n"
     ]
    }
   ],
   "source": [
    "f = open(\"demo.txt\",\"r\")\n",
    "for x in f:\n",
    "    print(x)\n"
   ]
  },
  {
   "cell_type": "code",
   "execution_count": 32,
   "id": "e844706e-ba75-4094-a5db-b694c642be5e",
   "metadata": {
    "tags": []
   },
   "outputs": [
    {
     "name": "stdout",
     "output_type": "stream",
     "text": [
      " \n",
      "\n",
      " Hi from Hari \n",
      "\n",
      " Hi from Shiv  \n",
      "\n",
      " Hi from Sai \n",
      "\n",
      " Hi from Krithi \n",
      "\n",
      " Hi from Hari \n",
      "\n",
      " Hi from Shiv  \n",
      "\n",
      " Hi from Sai \n",
      "\n",
      " Hi from Krithi \n",
      "\n",
      " Hi from Hari \n",
      "\n",
      " Hi from Shiv  \n",
      "\n",
      " Hi from Sai \n",
      "\n",
      " Hi from Krithi\n"
     ]
    }
   ],
   "source": [
    "f = open(\"demo.txt\",\"a\")\n",
    "f.write(\" \\r Hi from Hari\")\n",
    "f.write(\" \\r Hi from Shiv \")\n",
    "f.write(\" \\r Hi from Sai\")\n",
    "f.write(\" \\r Hi from Krithi\")\n",
    "\n",
    "f1 = open(\"demo.txt\",\"r\")\n",
    "\n",
    "for x in f1:\n",
    "    print(x)\n"
   ]
  },
  {
   "cell_type": "code",
   "execution_count": 3,
   "id": "e0e23c0f-a815-459d-a0dd-92575a7397cf",
   "metadata": {},
   "outputs": [
    {
     "name": "stdout",
     "output_type": "stream",
     "text": [
      "[1 2 3 4 5 6 7]\n"
     ]
    }
   ],
   "source": [
    "import numpy as np\n",
    "\n",
    "a = np.array([1,2,3,4,5,6,7])\n",
    "print(a)"
   ]
  },
  {
   "cell_type": "code",
   "execution_count": 8,
   "id": "ca6edd89-670c-44da-8aaf-0ce9f2b54042",
   "metadata": {
    "tags": []
   },
   "outputs": [
    {
     "name": "stdout",
     "output_type": "stream",
     "text": [
      "{'first_name': 'Barack', 'last_name': 'Obama', 'hearth_desire_number': 1, 'personality_number': 22, 'destiny_number': 5, 'expression_number': 5, 'active_number': 9, 'legacy_number': 5, 'full_name_numbers': {1: 4, 2: 3, 9: 1, 3: 1, 6: 1, 4: 1}, 'full_name_missing_numbers': (5, 7, 8), 'birthdate': '1961-08-04', 'life_path_number': 2, 'life_path_number_alternative': 2, 'birthdate_day_num': 4, 'birthdate_month_num': 8, 'birthdate_year_num': 8, 'birthdate_year_num_alternative': 7, 'power_number': 7, 'power_number_alternative': 7}\n"
     ]
    }
   ],
   "source": [
    "from numerology import Pythagorean\n",
    "\n",
    "num = Pythagorean(first_name=\"Barack\", last_name=\"Obama\", birthdate=\"1961-08-04\", verbose=False)\n",
    "print(num.key_figures)"
   ]
  },
  {
   "cell_type": "code",
   "execution_count": 9,
   "id": "8c4d8ff0-f069-48c2-8cea-e86e5f9c7413",
   "metadata": {
    "tags": []
   },
   "outputs": [
    {
     "name": "stdout",
     "output_type": "stream",
     "text": [
      "[[1 2 3]\n",
      " [4 5 6]]\n"
     ]
    }
   ],
   "source": [
    "import numpy as np\n",
    "\n",
    "b = np.array([[1,2,3],[4,5,6]])\n",
    "print(b)"
   ]
  },
  {
   "cell_type": "code",
   "execution_count": 11,
   "id": "02eeb21e-2c11-4566-9f2b-5dd98caf1b19",
   "metadata": {
    "tags": []
   },
   "outputs": [
    {
     "name": "stdout",
     "output_type": "stream",
     "text": [
      "[[0. 0. 0. 0.]\n",
      " [0. 0. 0. 0.]\n",
      " [0. 0. 0. 0.]]\n"
     ]
    }
   ],
   "source": [
    "import numpy as np\n",
    "\n",
    "a= np.zeros((3,4))\n",
    "print(a)"
   ]
  },
  {
   "cell_type": "code",
   "execution_count": 13,
   "id": "4eda8acb-bd65-499e-9cf0-f6b4839a4cbd",
   "metadata": {
    "tags": []
   },
   "outputs": [
    {
     "data": {
      "text/plain": [
       "array([1, 3, 5, 7, 9])"
      ]
     },
     "execution_count": 13,
     "metadata": {},
     "output_type": "execute_result"
    }
   ],
   "source": [
    "import numpy as np\n",
    "\n",
    "np.arange(1,10,2)"
   ]
  },
  {
   "cell_type": "code",
   "execution_count": 14,
   "id": "b3527bb8-fe26-465e-af92-7418af47395b",
   "metadata": {
    "tags": []
   },
   "outputs": [
    {
     "data": {
      "text/plain": [
       "array([10, 12, 14, 16, 18])"
      ]
     },
     "execution_count": 14,
     "metadata": {},
     "output_type": "execute_result"
    }
   ],
   "source": [
    "np.arange(10,20,2)"
   ]
  },
  {
   "cell_type": "code",
   "execution_count": 15,
   "id": "c5e64d71-a971-47e6-9bd2-87574df8271c",
   "metadata": {
    "tags": []
   },
   "outputs": [
    {
     "data": {
      "text/plain": [
       "array([10, 11, 12, 13, 14, 15, 16, 17, 18, 19])"
      ]
     },
     "execution_count": 15,
     "metadata": {},
     "output_type": "execute_result"
    }
   ],
   "source": [
    "np.arange(10,20,1)"
   ]
  },
  {
   "cell_type": "code",
   "execution_count": 16,
   "id": "751cf970-75ca-4fd2-b267-7d53cdd2ea67",
   "metadata": {
    "tags": []
   },
   "outputs": [
    {
     "data": {
      "text/plain": [
       "array([10, 13, 16, 19])"
      ]
     },
     "execution_count": 16,
     "metadata": {},
     "output_type": "execute_result"
    }
   ],
   "source": [
    "np.arange(10,20,3)"
   ]
  },
  {
   "cell_type": "code",
   "execution_count": 17,
   "id": "67a5cbf2-80d6-4842-909e-0a6da6ef2191",
   "metadata": {
    "tags": []
   },
   "outputs": [
    {
     "data": {
      "text/plain": [
       "array([1, 6])"
      ]
     },
     "execution_count": 17,
     "metadata": {},
     "output_type": "execute_result"
    }
   ],
   "source": [
    "np.arange(1,10,5)"
   ]
  },
  {
   "cell_type": "code",
   "execution_count": 18,
   "id": "b19f128c-f511-421e-b11b-1599564409a3",
   "metadata": {
    "tags": []
   },
   "outputs": [
    {
     "data": {
      "text/plain": [
       "array([ 0. ,  2.5,  5. ,  7.5, 10. ])"
      ]
     },
     "execution_count": 18,
     "metadata": {},
     "output_type": "execute_result"
    }
   ],
   "source": [
    "np.linspace(0,10,5)"
   ]
  },
  {
   "cell_type": "code",
   "execution_count": 19,
   "id": "6aa88985-376b-42e5-8c55-6fed8151ce41",
   "metadata": {
    "tags": []
   },
   "outputs": [
    {
     "name": "stdout",
     "output_type": "stream",
     "text": [
      "Generated numbers between 1 and 10 : [ 1.    3.25  5.5   7.75 10.  ]\n"
     ]
    }
   ],
   "source": [
    "import numpy as np\n",
    "\n",
    "def generate_numbers_between(x, y, z):\n",
    "    if z <= 0:\n",
    "        return np.array([])\n",
    "    \n",
    "    # Generate z numbers between x and y\n",
    "    numbers = np.linspace(x, y, z)\n",
    "    \n",
    "    return numbers\n",
    "\n",
    "# Example usage:\n",
    "x = 1\n",
    "y = 10\n",
    "z = 5\n",
    "result = generate_numbers_between(x, y, z)\n",
    "print(\"Generated numbers between\", x, \"and\", y, \":\", result)"
   ]
  },
  {
   "cell_type": "code",
   "execution_count": 22,
   "id": "8e6edc3d-e77f-494f-ba84-9390a9d7bc5d",
   "metadata": {
    "tags": []
   },
   "outputs": [
    {
     "data": {
      "text/plain": [
       "array([ 1.,  2.,  3.,  4.,  5.,  6.,  7.,  8.,  9., 10.])"
      ]
     },
     "execution_count": 22,
     "metadata": {},
     "output_type": "execute_result"
    }
   ],
   "source": [
    "np.linspace(1,10,10)"
   ]
  },
  {
   "cell_type": "code",
   "execution_count": 23,
   "id": "154cbce4-f308-4513-a654-2a452dfcc651",
   "metadata": {
    "tags": []
   },
   "outputs": [
    {
     "data": {
      "text/plain": [
       "array([ 1.  ,  3.25,  5.5 ,  7.75, 10.  ])"
      ]
     },
     "execution_count": 23,
     "metadata": {},
     "output_type": "execute_result"
    }
   ],
   "source": [
    "np.linspace(1,10,5)"
   ]
  },
  {
   "cell_type": "code",
   "execution_count": 24,
   "id": "8b0239cd-1dcb-4fc9-b64d-bfd0589c059f",
   "metadata": {
    "tags": []
   },
   "outputs": [
    {
     "data": {
      "text/plain": [
       "array([[4, 4, 4],\n",
       "       [4, 4, 4]])"
      ]
     },
     "execution_count": 24,
     "metadata": {},
     "output_type": "execute_result"
    }
   ],
   "source": [
    "np.full((2,3),4)"
   ]
  },
  {
   "cell_type": "markdown",
   "id": "9af22163-f605-4fe5-a47d-db464fe9cb2c",
   "metadata": {},
   "source": [
    "## Filling Random Number\n"
   ]
  },
  {
   "cell_type": "code",
   "execution_count": 26,
   "id": "d79ed399-b5df-4220-9d96-e3bde9105174",
   "metadata": {
    "tags": []
   },
   "outputs": [
    {
     "data": {
      "text/plain": [
       "array([[0.94211657, 0.82173511, 0.54483966],\n",
       "       [0.03138861, 0.83583729, 0.61156286]])"
      ]
     },
     "execution_count": 26,
     "metadata": {},
     "output_type": "execute_result"
    }
   ],
   "source": [
    "np.random.random((2,3))"
   ]
  },
  {
   "cell_type": "code",
   "execution_count": 28,
   "id": "222b7227-dad0-4f52-8b15-070ed63570ee",
   "metadata": {
    "tags": []
   },
   "outputs": [
    {
     "data": {
      "text/plain": [
       "array([[0.65657161, 0.03378585, 0.83969283],\n",
       "       [0.03938763, 0.71023053, 0.07817824]])"
      ]
     },
     "execution_count": 28,
     "metadata": {},
     "output_type": "execute_result"
    }
   ],
   "source": [
    "np.random.random((2,3))"
   ]
  },
  {
   "cell_type": "code",
   "execution_count": 32,
   "id": "37487f8c-19ec-46ae-a62a-7529c1841b30",
   "metadata": {
    "tags": []
   },
   "outputs": [
    {
     "name": "stdout",
     "output_type": "stream",
     "text": [
      "[9 8 6 7 2]\n",
      "(5,)\n"
     ]
    }
   ],
   "source": [
    "a = np.random.randint(1,10,5)\n",
    "print(a)\n",
    "print(np.shape(a))"
   ]
  },
  {
   "cell_type": "code",
   "execution_count": 31,
   "id": "897fb867-69bc-469a-9a39-b1aab87c99af",
   "metadata": {
    "tags": []
   },
   "outputs": [
    {
     "data": {
      "text/plain": [
       "(2, 3)"
      ]
     },
     "execution_count": 31,
     "metadata": {},
     "output_type": "execute_result"
    }
   ],
   "source": [
    "a = np.array([[2,3,4],[5,6,7]])\n",
    "np.shape(a)"
   ]
  },
  {
   "cell_type": "code",
   "execution_count": 38,
   "id": "6922bbd2-7676-4a1b-98b6-c85055be609c",
   "metadata": {
    "tags": []
   },
   "outputs": [
    {
     "name": "stdout",
     "output_type": "stream",
     "text": [
      "[[2 3]\n",
      " [4 5]\n",
      " [6 7]]\n"
     ]
    }
   ],
   "source": [
    "a = np.array([[2,3,4],[5,6,7]])\n",
    "a.shape = (3,2)\n",
    "print(a)"
   ]
  },
  {
   "cell_type": "code",
   "execution_count": 40,
   "id": "6a206a88-9a60-4fa2-89b4-0b8fb5b660fa",
   "metadata": {
    "tags": []
   },
   "outputs": [
    {
     "name": "stdout",
     "output_type": "stream",
     "text": [
      "int64\n",
      "[ 0  1  2  3  4  5  6  7  8  9 10 11 12 13 14 15 16 17 18 19 20 21 22 23]\n"
     ]
    }
   ],
   "source": [
    "a = np.arange(24)\n",
    "print(a.dtype)\n",
    "print(a)"
   ]
  },
  {
   "cell_type": "code",
   "execution_count": 41,
   "id": "80120d04-1b23-4281-8558-24eb0c55e479",
   "metadata": {
    "tags": []
   },
   "outputs": [
    {
     "data": {
      "text/plain": [
       "30"
      ]
     },
     "execution_count": 41,
     "metadata": {},
     "output_type": "execute_result"
    }
   ],
   "source": [
    "import numpy as np\n",
    "\n",
    "np.sum([10,20])"
   ]
  },
  {
   "cell_type": "code",
   "execution_count": 43,
   "id": "1c139378-4d77-4ac4-8921-85bdd617fa74",
   "metadata": {
    "tags": []
   },
   "outputs": [
    {
     "data": {
      "text/plain": [
       "60"
      ]
     },
     "execution_count": 43,
     "metadata": {},
     "output_type": "execute_result"
    }
   ],
   "source": [
    "import numpy as np\n",
    "a,b,c,d,e = 10,20,30,40,50\n",
    "\n",
    "np.sum([a,b,c])"
   ]
  },
  {
   "cell_type": "code",
   "execution_count": 45,
   "id": "2e32ee33-6941-4076-968c-8a07fafda51c",
   "metadata": {
    "tags": []
   },
   "outputs": [
    {
     "data": {
      "text/plain": [
       "14"
      ]
     },
     "execution_count": 45,
     "metadata": {},
     "output_type": "execute_result"
    }
   ],
   "source": [
    "np.sum([[1,2],[5,6]])"
   ]
  },
  {
   "cell_type": "code",
   "execution_count": 49,
   "id": "57bf8a2b-1a32-49bd-8785-d59e206f434d",
   "metadata": {
    "tags": []
   },
   "outputs": [
    {
     "name": "stdout",
     "output_type": "stream",
     "text": [
      "[[1, 2], [5, 6]]\n"
     ]
    },
    {
     "data": {
      "text/plain": [
       "array([ 3, 11])"
      ]
     },
     "execution_count": 49,
     "metadata": {},
     "output_type": "execute_result"
    }
   ],
   "source": [
    "a = [[1,2],[5,6]]\n",
    "print(a)\n",
    "\n",
    "np.sum(a,axis=1)"
   ]
  },
  {
   "cell_type": "code",
   "execution_count": 52,
   "id": "d8adbc9d-20e6-4ee0-b9f1-15366ad7ff25",
   "metadata": {
    "tags": []
   },
   "outputs": [
    {
     "name": "stdout",
     "output_type": "stream",
     "text": [
      "[[1, 2], [5, 6]]\n"
     ]
    },
    {
     "data": {
      "text/plain": [
       "array([[ 1,  4],\n",
       "       [25, 36]])"
      ]
     },
     "execution_count": 52,
     "metadata": {},
     "output_type": "execute_result"
    }
   ],
   "source": [
    "a = [[1,2],[5,6]]\n",
    "b = [[1,2],[5,6]]\n",
    "print(a)\n",
    "\n",
    "np.multiply(a,b)"
   ]
  },
  {
   "cell_type": "code",
   "execution_count": 55,
   "id": "bafe7148-dff4-4064-9b4c-67809f248715",
   "metadata": {
    "tags": []
   },
   "outputs": [
    {
     "name": "stdout",
     "output_type": "stream",
     "text": [
      "Result of plain array multiplication:\n",
      "[[ 1  4  9]\n",
      " [16 25 36]]\n",
      "Result of element-wise division along rows:\n",
      "[[ 6 12 18]\n",
      " [60 75 90]]\n",
      "\n",
      "Result of element-wise division along columns:\n",
      "[[ 5 14 27]\n",
      " [20 35 54]]\n"
     ]
    }
   ],
   "source": [
    "import numpy as np\n",
    "\n",
    "# Example array\n",
    "arr = np.array([[1, 2, 3],\n",
    "                [4, 5, 6]])\n",
    "\n",
    "# Multiply two arrays \n",
    "result_array_mul = arr * arr\n",
    "\n",
    "# Multiply each element by the sum of its row (along columns)\n",
    "result_row_div = arr * arr.sum(axis=1)[:, np.newaxis]\n",
    "\n",
    "# Multiply each element by the sum of its column (along rows)\n",
    "result_col_div = arr * arr.sum(axis=0)\n",
    "\n",
    "print(\"Result of plain array multiplication:\")\n",
    "print(result_array_mul)\n",
    "\n",
    "\n",
    "print(\"Result of element-wise division along rows:\")\n",
    "print(result_row_div)\n",
    "print(\"\\nResult of element-wise division along columns:\")\n",
    "print(result_col_div)\n"
   ]
  },
  {
   "cell_type": "code",
   "execution_count": 57,
   "id": "edb3b246-8d33-4a5b-802b-f0e1e88d32a0",
   "metadata": {
    "tags": []
   },
   "outputs": [
    {
     "data": {
      "text/plain": [
       "array([1, 2, 3, 4, 5, 6])"
      ]
     },
     "execution_count": 57,
     "metadata": {},
     "output_type": "execute_result"
    }
   ],
   "source": [
    "import numpy as np\n",
    "\n",
    "a = np.array([1,2,3])\n",
    "b = np.array([4,5,6])\n",
    "\n",
    "np.concatenate((a,b))"
   ]
  },
  {
   "cell_type": "code",
   "execution_count": 63,
   "id": "1da474ed-29ec-4e5f-b798-fdbce30b7a75",
   "metadata": {
    "tags": []
   },
   "outputs": [
    {
     "data": {
      "text/plain": [
       "array([[ 0,  1,  2,  3,  4,  5,  6,  7],\n",
       "       [ 8,  9, 10, 11, 12, 13, 14, 15]])"
      ]
     },
     "execution_count": 63,
     "metadata": {},
     "output_type": "execute_result"
    }
   ],
   "source": [
    "np.arange(16).reshape(2,8)"
   ]
  },
  {
   "cell_type": "code",
   "execution_count": 65,
   "id": "77ad6b41-2ad7-4b1d-8ffa-04d94b655f3f",
   "metadata": {
    "tags": []
   },
   "outputs": [
    {
     "data": {
      "text/plain": [
       "array([[1, 4],\n",
       "       [2, 5],\n",
       "       [3, 6]])"
      ]
     },
     "execution_count": 65,
     "metadata": {},
     "output_type": "execute_result"
    }
   ],
   "source": [
    "import numpy as np\n",
    "\n",
    "a = np.array([1,2,3])\n",
    "b = np.array([4,5,6])\n",
    "\n",
    "np.column_stack((a,b))"
   ]
  },
  {
   "cell_type": "code",
   "execution_count": 77,
   "id": "4a50f38c-530d-4ac0-a62a-ffc67ca663d9",
   "metadata": {
    "tags": []
   },
   "outputs": [
    {
     "name": "stdout",
     "output_type": "stream",
     "text": [
      "\n",
      " \\ n Before Spliting actual array [[ 0  1  2  3]\n",
      " [ 4  5  6  7]\n",
      " [ 8  9 10 11]\n",
      " [12 13 14 15]]\n",
      "\n",
      " \\ n After Spliting  array by 3   \n",
      "\n",
      " \\ n After Spliting  array by 3 , 6  \n"
     ]
    },
    {
     "data": {
      "text/plain": [
       "[array([[ 0,  1,  2,  3],\n",
       "        [ 4,  5,  6,  7],\n",
       "        [ 8,  9, 10, 11],\n",
       "        [12, 13, 14, 15]]),\n",
       " array([], shape=(4, 0), dtype=int64),\n",
       " array([], shape=(4, 0), dtype=int64)]"
      ]
     },
     "execution_count": 77,
     "metadata": {},
     "output_type": "execute_result"
    }
   ],
   "source": [
    "import numpy as np\n",
    "\n",
    "x = np.arange(16).reshape(4,4)\n",
    "print(\"\\n \\ n Before Spliting actual array\",x)\n",
    "\n",
    "#print(\"\\n \\ n After Spliting  array by 2 \")\n",
    "#np.hsplit(x,2)\n",
    "\n",
    "print(\"\\n \\ n After Spliting  array by 3   \")\n",
    "np.hsplit(x,np.array([3]))\n",
    "\n",
    "print(\"\\n \\ n After Spliting  array by 3 , 6  \")\n",
    "np.hsplit(x,np.array([4,8]))"
   ]
  },
  {
   "cell_type": "code",
   "execution_count": 81,
   "id": "5ba9d663-99cf-4507-b4a0-881164d42aa9",
   "metadata": {
    "tags": []
   },
   "outputs": [
    {
     "name": "stdout",
     "output_type": "stream",
     "text": [
      "[[ 0  1  2  3]\n",
      " [ 4  5  6  7]\n",
      " [ 8  9 10 11]\n",
      " [12 13 14 15]] \n",
      " \n",
      "\n",
      "[array([[ 0,  1,  2],\n",
      "       [ 4,  5,  6],\n",
      "       [ 8,  9, 10],\n",
      "       [12, 13, 14]]), array([[ 3],\n",
      "       [ 7],\n",
      "       [11],\n",
      "       [15]])] \n",
      " \n",
      "\n"
     ]
    }
   ],
   "source": [
    "import numpy as np\n",
    "\n",
    "x = np.arange(16).reshape(4,4)\n",
    "\n",
    "print(x,\"\\n \\n\")\n",
    "#print(np.hsplit(x,2),\"\\n \\n\")\n",
    "print(np.hsplit(x,np.array([3])),\"\\n \\n\")\n"
   ]
  },
  {
   "cell_type": "code",
   "execution_count": 84,
   "id": "1707a030-3c54-413a-8265-bacd29c5049f",
   "metadata": {
    "tags": []
   },
   "outputs": [
    {
     "name": "stdout",
     "output_type": "stream",
     "text": [
      "Size of list 28000\n",
      "Size of numpy array 8000\n"
     ]
    }
   ],
   "source": [
    "import numpy as np\n",
    "import sys\n",
    "\n",
    "#define a list\n",
    "\n",
    "l = range(1000)\n",
    "\n",
    "print(\"Size of list\",sys.getsizeof(1)*len(l))\n",
    "\n",
    "#define a numpy array\n",
    "a = np.arange(1000)\n",
    "print(\"Size of numpy array\",a.size * a.itemsize)\n"
   ]
  },
  {
   "cell_type": "code",
   "execution_count": 88,
   "id": "f678423c-84d9-44d0-a977-023c8e2050c0",
   "metadata": {
    "tags": []
   },
   "outputs": [
    {
     "name": "stdout",
     "output_type": "stream",
     "text": [
      "using list 5.9604644775390625e-06\n",
      "using numpy 0.0006289482116699219\n"
     ]
    }
   ],
   "source": [
    "import time \n",
    "\n",
    "def using_list():\n",
    "    t1 = time.time()\n",
    "    \n",
    "    X = range(10000)\n",
    "    Y = range(10000)\n",
    "    \n",
    "    Z = [X[i]+Y[i] for i in range(len(x))]\n",
    "    return time.time() - t1\n",
    "\n",
    "def using_numpy():\n",
    "    t1 = time.time()\n",
    "    \n",
    "    X = np.arange(10000)\n",
    "    Y = np.arange(10000)\n",
    "    Z = X+Y\n",
    "    return time.time() - t1\n",
    "\n",
    "if __name__ == \"__main__\":\n",
    "    print(\"using list\",using_list())\n",
    "    print(\"using numpy\",using_numpy())"
   ]
  },
  {
   "cell_type": "code",
   "execution_count": 90,
   "id": "14fb0af2-1298-466e-b5f1-5a33c98c5755",
   "metadata": {
    "tags": []
   },
   "outputs": [
    {
     "name": "stdout",
     "output_type": "stream",
     "text": [
      "Multiply along rows: [  6 120 504]\n",
      "Multiply along columns: [ 28  80 162]\n"
     ]
    }
   ],
   "source": [
    "import numpy as np\n",
    "\n",
    "arr = np.array([[1, 2, 3],\n",
    "                [4, 5, 6],\n",
    "                [7, 8, 9]])\n",
    "\n",
    "\n",
    "result_multiply_columns = np.prod(arr, axis=1)\n",
    "print(\"Multiply along rows:\", result_multiply_columns)\n",
    "\n",
    "result_multiply_rows = np.prod(arr, axis=0)\n",
    "print(\"Multiply along columns:\", result_multiply_rows)"
   ]
  },
  {
   "cell_type": "code",
   "execution_count": 92,
   "id": "2d1373b6-eae2-4416-9bc5-b14cb0049be3",
   "metadata": {
    "tags": []
   },
   "outputs": [
    {
     "name": "stdout",
     "output_type": "stream",
     "text": [
      "result  [[ 1  4  9]\n",
      " [16 25 36]\n",
      " [49 64 81]]\n"
     ]
    }
   ],
   "source": [
    "import numpy as np\n",
    "\n",
    "x = np.array([[1,2,3],\n",
    "             [4,5,6],\n",
    "             [7,8,9]])\n",
    "\n",
    "y = np.array([[1,2,3],\n",
    "             [4,5,6],\n",
    "             [7,8,9]])\n",
    "\n",
    "result = x * y\n",
    "\n",
    "print(\"result \",result)"
   ]
  },
  {
   "cell_type": "code",
   "execution_count": null,
   "id": "8100ca84-0ccf-40ca-8750-8f84d8e44183",
   "metadata": {},
   "outputs": [],
   "source": []
  }
 ],
 "metadata": {
  "kernelspec": {
   "display_name": "Python 3 (ipykernel)",
   "language": "python",
   "name": "python3"
  },
  "language_info": {
   "codemirror_mode": {
    "name": "ipython",
    "version": 3
   },
   "file_extension": ".py",
   "mimetype": "text/x-python",
   "name": "python",
   "nbconvert_exporter": "python",
   "pygments_lexer": "ipython3",
   "version": "3.7.3"
  }
 },
 "nbformat": 4,
 "nbformat_minor": 5
}
